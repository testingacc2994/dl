{
 "cells": [
  {
   "cell_type": "code",
   "execution_count": 1,
   "id": "af76f68c",
   "metadata": {},
   "outputs": [],
   "source": [
    "import tensorflow as tf\n",
    "import numpy as np"
   ]
  },
  {
   "cell_type": "code",
   "execution_count": 2,
   "id": "c1407e99",
   "metadata": {},
   "outputs": [
    {
     "name": "stdout",
     "output_type": "stream",
     "text": [
      "tf.Tensor(35, shape=(), dtype=int32)\n"
     ]
    }
   ],
   "source": [
    "a = tf.constant(15)\n",
    "b = tf.constant(20)\n",
    "print(a + b)"
   ]
  },
  {
   "cell_type": "code",
   "execution_count": 3,
   "id": "5d4ad108",
   "metadata": {},
   "outputs": [
    {
     "name": "stdout",
     "output_type": "stream",
     "text": [
      "[8.5747600e-01 5.9346712e-01 4.0475410e-01 3.3663526e-01 6.5755123e-01\n",
      " 8.9977950e-01 6.2277323e-01 3.9244112e-01 2.8932667e-01 6.5145758e-03\n",
      " 8.0949354e-01 6.5807915e-01 5.8506119e-01 4.6526501e-01 8.5753947e-02\n",
      " 7.6921588e-01 1.8521525e-01 2.4525627e-01 7.7422792e-01 6.7181122e-01\n",
      " 8.6627282e-02 5.2926499e-01 8.1403106e-01 4.8795900e-01 1.9668347e-01\n",
      " 7.6690304e-01 8.4842943e-02 9.9702649e-02 6.8638146e-01 2.1087699e-01\n",
      " 5.1972336e-01 1.5570214e-01 2.1521549e-01 4.2266411e-01 4.7001275e-01\n",
      " 1.8186383e-01 1.0492758e-01 8.9891858e-02 7.7093679e-01 1.3713618e-01\n",
      " 5.2636999e-01 8.2313709e-02 2.7360401e-01 6.3308126e-01 8.6643559e-01\n",
      " 2.0973559e-01 4.2572066e-01 2.8922179e-01 4.5154011e-01 6.0331625e-01\n",
      " 3.9960024e-01 5.9421003e-01 6.1037672e-01 3.1317648e-01 1.7508110e-02\n",
      " 5.3826574e-02 7.1543097e-01 9.4262129e-01 6.4502090e-01 5.8742851e-01\n",
      " 5.8060473e-01 4.4179684e-01 9.1305360e-02 6.5882123e-01 8.9081430e-01\n",
      " 5.6935811e-01 4.8677161e-04 4.0921059e-01 5.8030581e-01 2.2441166e-02\n",
      " 7.6635236e-01 5.2058011e-01 2.6065028e-01 3.4608382e-01 2.8016078e-01\n",
      " 8.4775472e-01 3.0683798e-01 8.8643813e-01 7.2144288e-01 5.7008636e-01\n",
      " 4.5444879e-01 2.7503937e-01 4.1145802e-01 3.5111320e-01 9.3495655e-01\n",
      " 6.4598763e-01 8.4276038e-01 8.7272650e-01 9.5036060e-02 8.5716450e-01\n",
      " 5.4368228e-01 4.7071698e-01 6.6142756e-01 5.3019327e-01 5.0310940e-01\n",
      " 1.8292864e-01 3.2233021e-01 8.6179268e-01 7.5049698e-01 8.2912588e-01]\n"
     ]
    }
   ],
   "source": [
    "x = np.random.rand(100).astype(np.float32)\n",
    "print(x)"
   ]
  },
  {
   "cell_type": "code",
   "execution_count": 4,
   "id": "1623cf1f",
   "metadata": {},
   "outputs": [],
   "source": [
    "y = x * 0.2 + 0.2"
   ]
  },
  {
   "cell_type": "code",
   "execution_count": 5,
   "id": "774336c6",
   "metadata": {},
   "outputs": [],
   "source": [
    "w = tf.Variable(tf.random.normal([1]))"
   ]
  },
  {
   "cell_type": "code",
   "execution_count": 6,
   "id": "9a52358e",
   "metadata": {},
   "outputs": [],
   "source": [
    "b = tf.Variable(tf.zeros([1]))"
   ]
  },
  {
   "cell_type": "code",
   "execution_count": 7,
   "id": "ff67cfbe",
   "metadata": {},
   "outputs": [],
   "source": [
    "def mse_loss():\n",
    "  ypred = w * x + b\n",
    "  loss = tf.reduce_mean(tf.square(ypred - y))\n",
    "  return loss"
   ]
  },
  {
   "cell_type": "code",
   "execution_count": 8,
   "id": "fa660312",
   "metadata": {},
   "outputs": [],
   "source": [
    "optimizer = tf.keras.optimizers.Adam()"
   ]
  },
  {
   "cell_type": "code",
   "execution_count": 9,
   "id": "938f147a",
   "metadata": {},
   "outputs": [
    {
     "name": "stdout",
     "output_type": "stream",
     "text": [
      "0 [1.6033554] [-0.001]\n",
      "500 [1.2452198] [-0.28053984]\n",
      "1000 [1.0443071] [-0.2289823]\n",
      "1500 [0.84337693] [-0.1267104]\n",
      "2000 [0.6487285] [-0.02745806]\n",
      "2500 [0.48116553] [0.05764987]\n",
      "3000 [0.35373875] [0.1222152]\n",
      "3500 [0.2704263] [0.16437717]\n",
      "4000 [0.22561316] [0.18704541]\n",
      "4500 [0.20690021] [0.19651008]\n"
     ]
    }
   ],
   "source": [
    "for step in range(5000):\n",
    "  optimizer.minimize(mse_loss, var_list=[w, b])\n",
    "  if step % 500 == 0:\n",
    "    print(step, w.numpy(), b.numpy())"
   ]
  },
  {
   "cell_type": "code",
   "execution_count": null,
   "id": "fb638752",
   "metadata": {},
   "outputs": [],
   "source": []
  },
  {
   "cell_type": "code",
   "execution_count": null,
   "id": "1d657c61",
   "metadata": {},
   "outputs": [],
   "source": []
  },
  {
   "cell_type": "code",
   "execution_count": null,
   "id": "ddb29387",
   "metadata": {},
   "outputs": [],
   "source": []
  },
  {
   "cell_type": "code",
   "execution_count": 10,
   "id": "b1f467ca",
   "metadata": {},
   "outputs": [],
   "source": [
    "import torch\n",
    "import numpy as np"
   ]
  },
  {
   "cell_type": "code",
   "execution_count": 11,
   "id": "10a390c8",
   "metadata": {},
   "outputs": [
    {
     "name": "stdout",
     "output_type": "stream",
     "text": [
      "<class 'torch.Tensor'>\n"
     ]
    }
   ],
   "source": [
    "data = [[1,2], [3,4]]\n",
    "x_data = torch.tensor(data)\n",
    "print(type(x_data))"
   ]
  },
  {
   "cell_type": "code",
   "execution_count": 12,
   "id": "0fdbe5c0",
   "metadata": {},
   "outputs": [
    {
     "name": "stdout",
     "output_type": "stream",
     "text": [
      "tensor([[1, 2],\n",
      "        [3, 4]], dtype=torch.int32)\n",
      "<class 'torch.Tensor'>\n"
     ]
    }
   ],
   "source": [
    "np_array = np.array(data)\n",
    "x_np = torch.from_numpy(np_array)\n",
    "print(x_np)\n",
    "print(type(x_np))"
   ]
  },
  {
   "cell_type": "code",
   "execution_count": 13,
   "id": "ce4f663a",
   "metadata": {},
   "outputs": [
    {
     "name": "stdout",
     "output_type": "stream",
     "text": [
      "One Tensor:\n",
      " tensor([[1, 1],\n",
      "        [1, 1]])\n",
      "tensor([[0.1676, 0.1018],\n",
      "        [0.2413, 0.2710]])\n"
     ]
    }
   ],
   "source": [
    "x_ones = torch.ones_like(x_data)\n",
    "print(\"One Tensor:\\n\", x_ones)\n",
    "x_rand = torch.rand_like(x_data, dtype = torch.float)\n",
    "print(x_rand)"
   ]
  },
  {
   "cell_type": "code",
   "execution_count": 14,
   "id": "5ad3a2cb",
   "metadata": {},
   "outputs": [
    {
     "name": "stdout",
     "output_type": "stream",
     "text": [
      "tensor([[0.7904, 0.5637, 0.5165],\n",
      "        [0.1162, 0.1070, 0.0727]])\n",
      "<class 'torch.Tensor'>\n",
      "tensor([[1., 1., 1.],\n",
      "        [1., 1., 1.]])\n",
      "<class 'torch.Tensor'>\n",
      "tensor([[0., 0., 0.],\n",
      "        [0., 0., 0.]])\n",
      "<class 'torch.Tensor'>\n",
      "tensor([[0.4183, 0.5422, 0.9171, 0.1475],\n",
      "        [0.4032, 0.6472, 0.8144, 0.9705],\n",
      "        [0.7077, 0.6623, 0.5036, 0.0807]])\n"
     ]
    },
    {
     "data": {
      "text/plain": [
       "device(type='cpu')"
      ]
     },
     "execution_count": 14,
     "metadata": {},
     "output_type": "execute_result"
    }
   ],
   "source": [
    "shape = (2, 3)\n",
    "random_tensor = torch.rand(shape)\n",
    "print(random_tensor)\n",
    "print(type(random_tensor))\n",
    "ones_tensor = torch.ones(shape)\n",
    "print(ones_tensor)\n",
    "print(type(ones_tensor))\n",
    "zeros_tensor = torch.zeros(shape)\n",
    "print(zeros_tensor)\n",
    "print(type(zeros_tensor))\n",
    "tensor = torch.rand(3, 4)\n",
    "print(tensor)\n",
    "tensor.shape\n",
    "tensor.dtype\n",
    "tensor.device"
   ]
  },
  {
   "cell_type": "code",
   "execution_count": 15,
   "id": "43f7d60b",
   "metadata": {},
   "outputs": [],
   "source": [
    "if torch.cuda.is_available():\n",
    "  tensor = tensor.to('cuda')\n",
    "  print(\"Device tensor is stored in \", tensor.device)"
   ]
  },
  {
   "cell_type": "code",
   "execution_count": 16,
   "id": "59d92a03",
   "metadata": {},
   "outputs": [
    {
     "name": "stdout",
     "output_type": "stream",
     "text": [
      "Tensor:\n",
      " tensor([[1., 1., 1., 1.],\n",
      "        [1., 1., 1., 1.],\n",
      "        [1., 1., 1., 1.],\n",
      "        [1., 1., 1., 1.]])\n",
      "Tensor1:\n",
      " tensor([[0., 0., 0., 0.],\n",
      "        [0., 0., 0., 0.],\n",
      "        [0., 0., 0., 0.],\n",
      "        [0., 0., 0., 0.]])\n",
      "Tensor2:\n",
      " tensor([[1., 1., 1., 1.],\n",
      "        [1., 1., 1., 1.],\n",
      "        [1., 1., 1., 1.],\n",
      "        [1., 1., 1., 1.],\n",
      "        [0., 0., 0., 0.],\n",
      "        [0., 0., 0., 0.],\n",
      "        [0., 0., 0., 0.],\n",
      "        [0., 0., 0., 0.]])\n"
     ]
    }
   ],
   "source": [
    "tensor = torch.ones(4, 4)\n",
    "print(\"Tensor:\\n\", tensor)\n",
    "tensor1 = torch.zeros(4, 4)\n",
    "print(\"Tensor1:\\n\", tensor1)\n",
    "tensor2 = torch.cat([tensor, tensor1])\n",
    "print(\"Tensor2:\\n\", tensor2)"
   ]
  },
  {
   "cell_type": "code",
   "execution_count": 17,
   "id": "68b4e061",
   "metadata": {},
   "outputs": [
    {
     "data": {
      "text/plain": [
       "tensor([[1., 1., 1., 1.],\n",
       "        [1., 1., 1., 1.],\n",
       "        [1., 1., 1., 1.],\n",
       "        [1., 1., 1., 1.]])"
      ]
     },
     "execution_count": 17,
     "metadata": {},
     "output_type": "execute_result"
    }
   ],
   "source": [
    "tensor.mul(tensor1)\n",
    "tensor * tensor1\n",
    "tensor.T"
   ]
  },
  {
   "cell_type": "code",
   "execution_count": 18,
   "id": "578fdb7b",
   "metadata": {},
   "outputs": [
    {
     "name": "stdout",
     "output_type": "stream",
     "text": [
      "tensor([[4., 4., 4., 4.],\n",
      "        [4., 4., 4., 4.],\n",
      "        [4., 4., 4., 4.],\n",
      "        [4., 4., 4., 4.]])\n"
     ]
    }
   ],
   "source": [
    "tensor.add_(3)\n",
    "print(tensor)"
   ]
  },
  {
   "cell_type": "code",
   "execution_count": 19,
   "id": "785ee5c6",
   "metadata": {},
   "outputs": [
    {
     "name": "stdout",
     "output_type": "stream",
     "text": [
      "tensor([1., 1., 1., 1., 1.])\n",
      "[1. 1. 1. 1. 1.]\n",
      "<class 'numpy.ndarray'>\n"
     ]
    }
   ],
   "source": [
    "t = torch.ones(5)\n",
    "print(t)\n",
    "n = t.numpy()\n",
    "print(n)\n",
    "print(type(n))"
   ]
  },
  {
   "cell_type": "code",
   "execution_count": null,
   "id": "00c4385a",
   "metadata": {},
   "outputs": [],
   "source": []
  }
 ],
 "metadata": {
  "kernelspec": {
   "display_name": "Python 3 (ipykernel)",
   "language": "python",
   "name": "python3"
  },
  "language_info": {
   "codemirror_mode": {
    "name": "ipython",
    "version": 3
   },
   "file_extension": ".py",
   "mimetype": "text/x-python",
   "name": "python",
   "nbconvert_exporter": "python",
   "pygments_lexer": "ipython3",
   "version": "3.10.4"
  }
 },
 "nbformat": 4,
 "nbformat_minor": 5
}
